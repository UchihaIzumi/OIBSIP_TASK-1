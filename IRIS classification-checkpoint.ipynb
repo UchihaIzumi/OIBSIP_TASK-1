{
 "cells": [
  {
   "cell_type": "code",
   "execution_count": null,
   "id": "4ff61f55",
   "metadata": {},
   "outputs": [],
   "source": [
    "import numpy as np # linear algebra\n",
    "import pandas as pd # data processing, CSV file I/O (e.g. pd.read_csv)\n",
    "import seaborn as sns \n",
    "import matplotlib.pyplot as plt\n",
    "from sklearn.linear_model import LogisticRegression\n",
    "from sklearn.metrics import accuracy_score,confusion_matrix\n",
    "from sklearn.tree import DecisionTreeClassifier\n",
    "from sklearn.preprocessing import LabelEncoder\n",
    "from sklearn.model_selection import GridSearchCV\n",
    "from sklearn.ensemble import RandomForestClassifier\n",
    "import xgboost as xg\n",
    "from sklearn.model_selection import train_test_split"
   ]
  },
  {
   "cell_type": "code",
   "execution_count": null,
   "id": "56eed27c",
   "metadata": {},
   "outputs": [],
   "source": [
    "#load and make the copy of Iris dataset to keep track of changes.\n",
    "df = pd.read_csv('Iris.csv') #read comma seperated values\n",
    "df_copy=df.copy() #copy dataset"
   ]
  },
  {
   "cell_type": "code",
   "execution_count": null,
   "id": "10706b86",
   "metadata": {},
   "outputs": [],
   "source": [
    "#fetch first five rows from dataset\n",
    "df_copy"
   ]
  },
  {
   "cell_type": "markdown",
   "id": "eefffacc",
   "metadata": {},
   "source": [
    "### Check data properties and Data cleaning or preprocessing"
   ]
  },
  {
   "cell_type": "code",
   "execution_count": null,
   "id": "cff51195",
   "metadata": {},
   "outputs": [],
   "source": [
    "#Remove unnecessary feat from dataset Id\n",
    "df_copy.drop(columns=['Id'],axis=0,inplace=True)"
   ]
  },
  {
   "cell_type": "code",
   "execution_count": null,
   "id": "55a53c4a",
   "metadata": {},
   "outputs": [],
   "source": [
    "#Check datatypes of each feat\n",
    "df_copy.dtypes"
   ]
  },
  {
   "cell_type": "code",
   "execution_count": null,
   "id": "c9801cc5",
   "metadata": {},
   "outputs": [],
   "source": [
    "#check number of records and feilds present in dataset\n",
    "df_copy.shape\n",
    "print('Rows ---->',df.shape[0])\n",
    "print('Columns ---->',df.shape[1])"
   ]
  },
  {
   "cell_type": "code",
   "execution_count": null,
   "id": "cb036c44",
   "metadata": {},
   "outputs": [],
   "source": [
    "#see the descriptive statistics\n",
    "df_copy.describe()"
   ]
  },
  {
   "cell_type": "code",
   "execution_count": null,
   "id": "53aa869c",
   "metadata": {},
   "outputs": [],
   "source": [
    "#check the space complexicity taken by data\n",
    "df_copy.size"
   ]
  },
  {
   "cell_type": "code",
   "execution_count": null,
   "id": "c1e4e740",
   "metadata": {},
   "outputs": [],
   "source": [
    "#checking if there is any inconsistency in the dataset\n",
    "#as we see there are no null values in the dataset, so the data can be processed\n",
    "df_copy.info()"
   ]
  },
  {
   "cell_type": "code",
   "execution_count": null,
   "id": "c22e6cb3",
   "metadata": {},
   "outputs": [],
   "source": [
    "df_copy.columns = ['sl','sw','pl','pw','species']\n",
    "df_split_iris=df_copy.species.str.split('-',n=-1,expand=True) #Remove prefix 'Iris-' from species col\n",
    "df_split_iris.drop(columns=0,axis=1,inplace=True)#Drop 'Iris-' col\n",
    "df_split_iris"
   ]
  },
  {
   "cell_type": "code",
   "execution_count": null,
   "id": "21be3b53",
   "metadata": {},
   "outputs": [],
   "source": [
    "df3_full=df_copy.join(df_split_iris)\n",
    "df3_full\n"
   ]
  },
  {
   "cell_type": "code",
   "execution_count": null,
   "id": "6d4f85ce",
   "metadata": {},
   "outputs": [],
   "source": [
    "df3_full.rename({1:'species1'},axis=1,inplace=True) #Rename column\n",
    "df3_full"
   ]
  },
  {
   "cell_type": "code",
   "execution_count": null,
   "id": "29b2f7ae",
   "metadata": {},
   "outputs": [],
   "source": [
    "df3_full.drop(columns='species',axis=1,inplace=True) #Drop excessive column"
   ]
  },
  {
   "cell_type": "code",
   "execution_count": null,
   "id": "4a45f61c",
   "metadata": {},
   "outputs": [],
   "source": [
    "#final dataframe\n",
    "df3_full"
   ]
  },
  {
   "cell_type": "code",
   "execution_count": null,
   "id": "72437112",
   "metadata": {},
   "outputs": [],
   "source": [
    "df3_full.shape #check propertise like shape"
   ]
  },
  {
   "cell_type": "code",
   "execution_count": null,
   "id": "444cbe96",
   "metadata": {},
   "outputs": [],
   "source": [
    "#check for missing entries\n",
    "df3_full.isna() "
   ]
  },
  {
   "cell_type": "code",
   "execution_count": null,
   "id": "455f54ec",
   "metadata": {},
   "outputs": [],
   "source": [
    "#In each feat,count of missing entries\n",
    "df3_full.isna().sum()"
   ]
  },
  {
   "cell_type": "code",
   "execution_count": null,
   "id": "56cd984f",
   "metadata": {},
   "outputs": [],
   "source": [
    "df3_full.corr() # check the correlation matrix"
   ]
  },
  {
   "cell_type": "code",
   "execution_count": null,
   "id": "a894009a",
   "metadata": {},
   "outputs": [],
   "source": [
    "#statistical description of numerical  data only\n",
    "df3_full.describe()"
   ]
  },
  {
   "cell_type": "markdown",
   "id": "7b085a3b",
   "metadata": {},
   "source": [
    "check for balanced or unbalanced?"
   ]
  },
  {
   "cell_type": "code",
   "execution_count": null,
   "id": "4884d1c5",
   "metadata": {},
   "outputs": [],
   "source": [
    "#categoriwise frequency of data\n",
    "df3_full.species1.value_counts()"
   ]
  },
  {
   "cell_type": "markdown",
   "id": "f3feb7e7",
   "metadata": {},
   "source": [
    "### Data Visualisation and gain meaningfull insights from data"
   ]
  },
  {
   "cell_type": "code",
   "execution_count": null,
   "id": "34b8e18b",
   "metadata": {},
   "outputs": [],
   "source": [
    "sns.boxplot(x=df3_full.species1,y=df3_full.sl,data=df3_full,hue=df3_full.species1,hue_order=[0,1,2])"
   ]
  },
  {
   "cell_type": "code",
   "execution_count": null,
   "id": "35c26657",
   "metadata": {},
   "outputs": [],
   "source": [
    "sns.boxplot(x=df3_full.species1,y=df3_full.sw,data=df3_full,hue=df3_full.species1,hue_order=[0,1,2])"
   ]
  },
  {
   "cell_type": "code",
   "execution_count": null,
   "id": "7745fe35",
   "metadata": {},
   "outputs": [],
   "source": [
    "sns.boxplot(x=df3_full.species1,y=df3_full.pl,data=df3_full,hue=df3_full.species1,hue_order=[0,1,2])"
   ]
  },
  {
   "cell_type": "code",
   "execution_count": null,
   "id": "4548767d",
   "metadata": {},
   "outputs": [],
   "source": [
    "sns.boxplot(x=df3_full.species1,y=df3_full.pw,data=df3_full,hue=df3_full.species1,hue_order=[0,1,2])"
   ]
  },
  {
   "cell_type": "code",
   "execution_count": null,
   "id": "f0bc2c5d",
   "metadata": {},
   "outputs": [],
   "source": [
    "sns.scatterplot(x=df3_full.sl,y=df3_full.pl,hue=df3_full.species1)"
   ]
  },
  {
   "cell_type": "markdown",
   "id": "33bdf1ca",
   "metadata": {},
   "source": [
    "The above graph shows relationship between the sepal length and width.It also shows that species setosa having lesser petal lenght as compared to versicolor and verginica.\n"
   ]
  },
  {
   "cell_type": "markdown",
   "id": "f7ca7eb7",
   "metadata": {},
   "source": [
    "Now we will check relationship between the petal length and width."
   ]
  },
  {
   "cell_type": "code",
   "execution_count": null,
   "id": "473a0669",
   "metadata": {},
   "outputs": [],
   "source": [
    "sns.scatterplot(x=df3_full.pl,y=df3_full.pw,hue=df3_full.species1)"
   ]
  },
  {
   "cell_type": "markdown",
   "id": "b2c5b884",
   "metadata": {},
   "source": [
    "As we can see that the Petal Features are giving a better cluster division compared to the Sepal features. This is an indication that the Petals can help in better and accurate Predictions over the Sepal. We will check that later."
   ]
  },
  {
   "cell_type": "code",
   "execution_count": null,
   "id": "54340057",
   "metadata": {},
   "outputs": [],
   "source": [
    "sns.scatterplot(x=df3_full.sl,y=df3_full.pw,hue=df3_full.species1)"
   ]
  },
  {
   "cell_type": "code",
   "execution_count": null,
   "id": "dca7ecd0",
   "metadata": {},
   "outputs": [],
   "source": [
    "sns.scatterplot(x=df3_full.sw,y=df3_full.pl,hue=df3_full.species1)"
   ]
  },
  {
   "cell_type": "markdown",
   "id": "4790dd4e",
   "metadata": {},
   "source": [
    "From both above scatter plots we can clearly see that sw and pl data distribution and not represents specific pattern"
   ]
  },
  {
   "cell_type": "code",
   "execution_count": null,
   "id": "2e9ce011",
   "metadata": {},
   "outputs": [],
   "source": [
    "df3_full.columns # check column names"
   ]
  },
  {
   "cell_type": "code",
   "execution_count": null,
   "id": "ceec0de9",
   "metadata": {},
   "outputs": [],
   "source": [
    "sns.distplot(df3_full.pl)"
   ]
  },
  {
   "cell_type": "code",
   "execution_count": null,
   "id": "a2cc496a",
   "metadata": {},
   "outputs": [],
   "source": [
    "sns.distplot(df3_full.sl)"
   ]
  },
  {
   "cell_type": "code",
   "execution_count": null,
   "id": "7222b1d0",
   "metadata": {},
   "outputs": [],
   "source": [
    "sns.distplot(df3_full.sw)"
   ]
  },
  {
   "cell_type": "code",
   "execution_count": null,
   "id": "459907ee",
   "metadata": {},
   "outputs": [],
   "source": [
    "sns.distplot(df3_full.pw)"
   ]
  },
  {
   "cell_type": "code",
   "execution_count": null,
   "id": "d6da52c9",
   "metadata": {},
   "outputs": [],
   "source": [
    "plt.figure(figsize=(15,10))\n",
    "plt.subplot(2,2,1)\n",
    "sns.violinplot(x='species1',y='pl',data=df3_full)\n",
    "plt.subplot(2,2,2)\n",
    "sns.violinplot(x='species1',y='pw',data=df3_full)\n",
    "plt.subplot(2,2,3)\n",
    "sns.violinplot(x='species1',y='sl',data=df3_full)\n",
    "plt.subplot(2,2,4)\n",
    "sns.violinplot(x='species1',y='sw',data=df3_full)"
   ]
  },
  {
   "cell_type": "markdown",
   "id": "65b3ba70",
   "metadata": {},
   "source": [
    "The violinplot shows density of the length and width in the species. The thinner part denotes that there is less density whereas the fatter part conveys higher density"
   ]
  },
  {
   "cell_type": "code",
   "execution_count": null,
   "id": "e9ab602a",
   "metadata": {},
   "outputs": [],
   "source": [
    "plt.figure(figsize=(7,4)) \n",
    "sns.heatmap(df3_full.corr(),annot=True,cmap='cubehelix_r') \n",
    "plt.show()"
   ]
  },
  {
   "cell_type": "markdown",
   "id": "e31d1ffa",
   "metadata": {},
   "source": [
    "Observation--->\n",
    "\n",
    "The Sepal Width and Length are not correlated The Petal Width and Length are highly correlated\n",
    "\n",
    "We will use all the features for training the algorithm and check the accuracy.\n",
    "\n",
    "Then we will use 1 Petal Feature and 1 Sepal Feature to check the accuracy of the algorithm as we are using only 2 features that are not correlated. Thus we can have a variance in the dataset which may help in better accuracy. We will check it later."
   ]
  },
  {
   "cell_type": "markdown",
   "id": "224d8521",
   "metadata": {},
   "source": [
    "### convert categorical features into numerical feature"
   ]
  },
  {
   "cell_type": "code",
   "execution_count": null,
   "id": "8eed66f4",
   "metadata": {},
   "outputs": [],
   "source": [
    "from sklearn.preprocessing import LabelEncoder\n",
    " \n",
    "# Creating a instance of label Encoder.\n",
    "le = LabelEncoder()\n",
    " \n",
    "# Using .fit_transform function to fit label\n",
    "# encoder and return encoded label\n",
    "le.fit_transform(df3_full['species1'])\n",
    "df3_full['species1']=le.fit_transform(df3_full['species1'])\n",
    "df3_full"
   ]
  },
  {
   "cell_type": "code",
   "execution_count": null,
   "id": "9fe056f3",
   "metadata": {},
   "outputs": [],
   "source": [
    "df3_full"
   ]
  },
  {
   "cell_type": "markdown",
   "id": "9108b88e",
   "metadata": {},
   "source": [
    "### Devide independent feat and target feat to train model"
   ]
  },
  {
   "cell_type": "code",
   "execution_count": null,
   "id": "d06905fb",
   "metadata": {},
   "outputs": [],
   "source": [
    "x = df3_full.iloc[:,:-1]\n",
    "x"
   ]
  },
  {
   "cell_type": "code",
   "execution_count": null,
   "id": "11f7e42b",
   "metadata": {},
   "outputs": [],
   "source": [
    "y = df3_full.iloc[:,-1]\n",
    "y"
   ]
  },
  {
   "cell_type": "code",
   "execution_count": null,
   "id": "75818d91",
   "metadata": {},
   "outputs": [],
   "source": [
    "df3_full.species1.unique()"
   ]
  },
  {
   "cell_type": "code",
   "execution_count": null,
   "id": "f59e9b5a",
   "metadata": {},
   "outputs": [],
   "source": [
    "from sklearn.model_selection import train_test_split\n",
    "xtrain,xtest,ytrain,ytest = train_test_split(x,y,test_size=0.3,random_state=20)"
   ]
  },
  {
   "cell_type": "code",
   "execution_count": null,
   "id": "306517e0",
   "metadata": {},
   "outputs": [],
   "source": [
    "xtrain.shape"
   ]
  },
  {
   "cell_type": "code",
   "execution_count": null,
   "id": "962176ba",
   "metadata": {},
   "outputs": [],
   "source": [
    "ytrain.shape"
   ]
  },
  {
   "cell_type": "code",
   "execution_count": null,
   "id": "2e2d8b70",
   "metadata": {},
   "outputs": [],
   "source": [
    "xtest.shape"
   ]
  },
  {
   "cell_type": "code",
   "execution_count": null,
   "id": "85ba2320",
   "metadata": {},
   "outputs": [],
   "source": [
    "ytest.shape"
   ]
  },
  {
   "cell_type": "markdown",
   "id": "edf3dd13",
   "metadata": {},
   "source": [
    "### Train model with LR,DT,RFC,XGBOOST,RF,KNN of classification techniques"
   ]
  },
  {
   "cell_type": "code",
   "execution_count": null,
   "id": "f067bf74",
   "metadata": {},
   "outputs": [],
   "source": [
    "from sklearn.linear_model import LogisticRegression\n",
    "from sklearn.metrics import accuracy_score,confusion_matrix\n",
    "logi = LogisticRegression()\n",
    "logi.fit(xtrain,ytrain)\n",
    "logi_prediction = logi.predict(xtest)\n",
    "logi_prediction"
   ]
  },
  {
   "cell_type": "code",
   "execution_count": null,
   "id": "256b24c9",
   "metadata": {},
   "outputs": [],
   "source": [
    "print(logi.score(xtrain,ytrain)*100)\n",
    "print(logi.score(xtest,ytest)*100)"
   ]
  },
  {
   "cell_type": "code",
   "execution_count": null,
   "id": "59e04b73",
   "metadata": {},
   "outputs": [],
   "source": [
    "accuracy_score(ytest,logi_prediction)*100"
   ]
  },
  {
   "cell_type": "code",
   "execution_count": null,
   "id": "74d17ac8",
   "metadata": {},
   "outputs": [],
   "source": [
    "from sklearn.model_selection import GridSearchCV"
   ]
  },
  {
   "cell_type": "code",
   "execution_count": null,
   "id": "9152f2d4",
   "metadata": {},
   "outputs": [],
   "source": [
    "para = {'penalty':['l1','l2','elasticnet'],\n",
    "        'C':[1,2,3,4,5,6,10,20,30,40,50,1.5,2.3,1.6,1.9],\n",
    "        'max_iter':[100,200,300,50,70,60,50]\n",
    "        }"
   ]
  },
  {
   "cell_type": "code",
   "execution_count": null,
   "id": "67956b2e",
   "metadata": {},
   "outputs": [],
   "source": [
    "classifier_logistic = GridSearchCV(logi,param_grid = para,scoring='accuracy',cv=5)"
   ]
  },
  {
   "cell_type": "code",
   "execution_count": null,
   "id": "22cc4edd",
   "metadata": {},
   "outputs": [],
   "source": [
    "classifier_logistic.fit(xtrain,ytrain)"
   ]
  },
  {
   "cell_type": "code",
   "execution_count": null,
   "id": "dabed8ff",
   "metadata": {},
   "outputs": [],
   "source": [
    "classifier_logistic.best_estimator_"
   ]
  },
  {
   "cell_type": "code",
   "execution_count": null,
   "id": "a4106dd0",
   "metadata": {},
   "outputs": [],
   "source": [
    "classifier_logistic.best_params_"
   ]
  },
  {
   "cell_type": "code",
   "execution_count": null,
   "id": "39d28cea",
   "metadata": {},
   "outputs": [],
   "source": [
    "classifier_logistic.best_score_"
   ]
  },
  {
   "cell_type": "code",
   "execution_count": null,
   "id": "35a124ce",
   "metadata": {},
   "outputs": [],
   "source": [
    "prediction = classifier_logistic.predict(xtest)\n",
    "prediction"
   ]
  },
  {
   "cell_type": "code",
   "execution_count": null,
   "id": "3653a592",
   "metadata": {},
   "outputs": [],
   "source": [
    "from sklearn.metrics import accuracy_score,classification_report\n",
    "grid_logi_accuracy_score1 = accuracy_score(ytest,prediction)\n",
    "grid_logi_accuracy_score1=(np.round(grid_logi_accuracy_score1*100))\n",
    "grid_logi_accuracy_score1"
   ]
  },
  {
   "cell_type": "code",
   "execution_count": null,
   "id": "6f9acb8d",
   "metadata": {},
   "outputs": [],
   "source": [
    "confusion_matrix(ytest,prediction)"
   ]
  },
  {
   "cell_type": "code",
   "execution_count": null,
   "id": "d04d1bcf",
   "metadata": {},
   "outputs": [],
   "source": [
    "class_pre_rec = classification_report(ytest,prediction)\n",
    "print(class_pre_rec)"
   ]
  },
  {
   "cell_type": "code",
   "execution_count": null,
   "id": "529b649f",
   "metadata": {},
   "outputs": [],
   "source": [
    "from sklearn.tree import DecisionTreeClassifier"
   ]
  },
  {
   "cell_type": "code",
   "execution_count": null,
   "id": "5ca3d408",
   "metadata": {},
   "outputs": [],
   "source": [
    "tree_classifier = DecisionTreeClassifier(criterion='gini',\n",
    "    splitter='best', \n",
    "    max_depth=5,\n",
    "    min_samples_split=2,\n",
    "    min_samples_leaf=1,\n",
    "    max_features=1,\n",
    "    random_state=1,\n",
    "    max_leaf_nodes=2,\n",
    "    class_weight='balanced',\n",
    "    ccp_alpha=0.01,)"
   ]
  },
  {
   "cell_type": "code",
   "execution_count": null,
   "id": "b872255c",
   "metadata": {},
   "outputs": [],
   "source": [
    "tree_classifier.fit(xtrain,ytrain)"
   ]
  },
  {
   "cell_type": "code",
   "execution_count": null,
   "id": "f35ed213",
   "metadata": {},
   "outputs": [],
   "source": [
    "tree_classifier.score(xtrain,ytrain)"
   ]
  },
  {
   "cell_type": "code",
   "execution_count": null,
   "id": "36ec47b1",
   "metadata": {},
   "outputs": [],
   "source": [
    "tree_classifier.score(xtest,ytest)"
   ]
  },
  {
   "cell_type": "code",
   "execution_count": null,
   "id": "f2dc418d",
   "metadata": {},
   "outputs": [],
   "source": [
    "tree_classifier.predict(xtest)"
   ]
  },
  {
   "cell_type": "code",
   "execution_count": null,
   "id": "21c052c4",
   "metadata": {},
   "outputs": [],
   "source": [
    "tree_pred=tree_classifier.predict(xtest)"
   ]
  },
  {
   "cell_type": "code",
   "execution_count": null,
   "id": "d054e92d",
   "metadata": {},
   "outputs": [],
   "source": [
    "from sklearn.metrics import confusion_matrix,classification_report"
   ]
  },
  {
   "cell_type": "code",
   "execution_count": null,
   "id": "e54b878a",
   "metadata": {},
   "outputs": [],
   "source": [
    "confusion_matrix(ytest,tree_pred)"
   ]
  },
  {
   "cell_type": "code",
   "execution_count": null,
   "id": "16337bab",
   "metadata": {},
   "outputs": [],
   "source": [
    "print(classification_report(ytest,tree_pred))"
   ]
  },
  {
   "cell_type": "code",
   "execution_count": null,
   "id": "dcd0756c",
   "metadata": {},
   "outputs": [],
   "source": [
    "import sklearn"
   ]
  },
  {
   "cell_type": "code",
   "execution_count": null,
   "id": "2dc782a4",
   "metadata": {},
   "outputs": [],
   "source": [
    "sklearn.metrics.get_scorer_names()"
   ]
  },
  {
   "cell_type": "code",
   "execution_count": null,
   "id": "56b6a916",
   "metadata": {},
   "outputs": [],
   "source": [
    "param_dict = {\"criterion\":['gini','entropy'],\"max_depth\":[1,2,3,4,5,6,7,None]}"
   ]
  },
  {
   "cell_type": "code",
   "execution_count": null,
   "id": "8b0dbb62",
   "metadata": {},
   "outputs": [],
   "source": [
    "from sklearn.model_selection import GridSearchCV"
   ]
  },
  {
   "cell_type": "code",
   "execution_count": null,
   "id": "36dd58b1",
   "metadata": {},
   "outputs": [],
   "source": [
    "grid = GridSearchCV(tree_classifier,param_grid=param_dict,n_jobs=-1)\n",
    "grid"
   ]
  },
  {
   "cell_type": "code",
   "execution_count": null,
   "id": "e677c455",
   "metadata": {},
   "outputs": [],
   "source": [
    "grid.fit(xtrain,ytrain)"
   ]
  },
  {
   "cell_type": "code",
   "execution_count": null,
   "id": "800858f3",
   "metadata": {},
   "outputs": [],
   "source": [
    "grid.best_params_"
   ]
  },
  {
   "cell_type": "code",
   "execution_count": null,
   "id": "0d53fb94",
   "metadata": {},
   "outputs": [],
   "source": [
    "grid.best_score_"
   ]
  },
  {
   "cell_type": "code",
   "execution_count": null,
   "id": "935f8522",
   "metadata": {},
   "outputs": [],
   "source": [
    "grid_pred2=grid.predict(xtest)"
   ]
  },
  {
   "cell_type": "code",
   "execution_count": null,
   "id": "44f93a07",
   "metadata": {},
   "outputs": [],
   "source": [
    "accuracy_score(ytest,grid_pred2)*100"
   ]
  },
  {
   "cell_type": "code",
   "execution_count": null,
   "id": "924094ee",
   "metadata": {},
   "outputs": [],
   "source": [
    "from sklearn.metrics import confusion_matrix,classification_report"
   ]
  },
  {
   "cell_type": "code",
   "execution_count": null,
   "id": "c73aa7f6",
   "metadata": {},
   "outputs": [],
   "source": [
    "confusion_matrix(ytest,grid_pred2)"
   ]
  },
  {
   "cell_type": "code",
   "execution_count": null,
   "id": "ac9612d6",
   "metadata": {},
   "outputs": [],
   "source": [
    "print(classification_report(ytest,grid_pred2))"
   ]
  },
  {
   "cell_type": "code",
   "execution_count": null,
   "id": "6c0463b0",
   "metadata": {},
   "outputs": [],
   "source": [
    "from sklearn.neighbors import KNeighborsClassifier"
   ]
  },
  {
   "cell_type": "code",
   "execution_count": null,
   "id": "43334ec3",
   "metadata": {},
   "outputs": [],
   "source": [
    "knn = KNeighborsClassifier(n_neighbors=5,\n",
    "    weights='uniform',\n",
    "    algorithm='kd_tree',\n",
    "    leaf_size=30,\n",
    "    p=2,\n",
    "    metric='minkowski',\n",
    "    n_jobs=-1)"
   ]
  },
  {
   "cell_type": "code",
   "execution_count": null,
   "id": "7452a562",
   "metadata": {},
   "outputs": [],
   "source": [
    "knn.fit(xtrain,ytrain)"
   ]
  },
  {
   "cell_type": "code",
   "execution_count": null,
   "id": "f101848c",
   "metadata": {},
   "outputs": [],
   "source": [
    "knn.score(xtrain,ytrain)"
   ]
  },
  {
   "cell_type": "code",
   "execution_count": null,
   "id": "ff60419c",
   "metadata": {},
   "outputs": [],
   "source": [
    "knn.score(xtest,ytest)"
   ]
  },
  {
   "cell_type": "code",
   "execution_count": null,
   "id": "89ec3ff6",
   "metadata": {},
   "outputs": [],
   "source": [
    "knn_pred=knn.predict(xtest)"
   ]
  },
  {
   "cell_type": "code",
   "execution_count": null,
   "id": "ce947c7a",
   "metadata": {},
   "outputs": [],
   "source": [
    "accuracy_score(ytest,knn_pred)"
   ]
  },
  {
   "cell_type": "code",
   "execution_count": null,
   "id": "5acea3c8",
   "metadata": {},
   "outputs": [],
   "source": [
    "confusion_matrix(ytest,knn_pred)"
   ]
  },
  {
   "cell_type": "code",
   "execution_count": null,
   "id": "38aa5eb4",
   "metadata": {},
   "outputs": [],
   "source": [
    "accuracy_score(ytest,knn_pred)"
   ]
  },
  {
   "cell_type": "code",
   "execution_count": null,
   "id": "3a1493a2",
   "metadata": {},
   "outputs": [],
   "source": [
    "print(classification_report(ytest,knn_pred))"
   ]
  },
  {
   "cell_type": "code",
   "execution_count": null,
   "id": "763bb90c",
   "metadata": {},
   "outputs": [],
   "source": [
    "from sklearn.ensemble import RandomForestClassifier"
   ]
  },
  {
   "cell_type": "code",
   "execution_count": null,
   "id": "ba1c79cc",
   "metadata": {},
   "outputs": [],
   "source": [
    "RFC=RandomForestClassifier(n_estimators=300,criterion='gini',\n",
    "    max_depth=17,\n",
    "    min_samples_split=2,\n",
    "    min_samples_leaf=1,\n",
    "    max_features='sqrt',\n",
    "    max_leaf_nodes=2,\n",
    "    min_impurity_decrease=0.1,\n",
    "    bootstrap=True,\n",
    "    oob_score=False,\n",
    "    n_jobs=-1,\n",
    "    random_state=1,\n",
    "    ccp_alpha=0.01,\n",
    "    max_samples=3)"
   ]
  },
  {
   "cell_type": "code",
   "execution_count": null,
   "id": "aa65ccf7",
   "metadata": {},
   "outputs": [],
   "source": [
    "RFC.fit(xtrain,ytrain)"
   ]
  },
  {
   "cell_type": "code",
   "execution_count": null,
   "id": "1db5e9c4",
   "metadata": {},
   "outputs": [],
   "source": [
    "RFC.score(xtrain,ytrain)"
   ]
  },
  {
   "cell_type": "code",
   "execution_count": null,
   "id": "3618f419",
   "metadata": {},
   "outputs": [],
   "source": [
    "RFC.score(xtest,ytest)"
   ]
  },
  {
   "cell_type": "code",
   "execution_count": null,
   "id": "54f530ca",
   "metadata": {},
   "outputs": [],
   "source": [
    "RFC.get_params()"
   ]
  },
  {
   "cell_type": "code",
   "execution_count": null,
   "id": "30209409",
   "metadata": {},
   "outputs": [],
   "source": [
    "RFC_pred = RFC.predict(xtest)"
   ]
  },
  {
   "cell_type": "code",
   "execution_count": null,
   "id": "e1723028",
   "metadata": {},
   "outputs": [],
   "source": [
    "accuracy_score(ytest,RFC_pred)"
   ]
  },
  {
   "cell_type": "code",
   "execution_count": null,
   "id": "fa25b7e0",
   "metadata": {},
   "outputs": [],
   "source": [
    "confusion_matrix(ytest,RFC_pred)"
   ]
  },
  {
   "cell_type": "code",
   "execution_count": null,
   "id": "78be2aed",
   "metadata": {},
   "outputs": [],
   "source": [
    "print(classification_report(ytest,RFC_pred))"
   ]
  },
  {
   "cell_type": "code",
   "execution_count": null,
   "id": "09399fd6",
   "metadata": {},
   "outputs": [],
   "source": [
    "import xgboost as xg"
   ]
  },
  {
   "cell_type": "code",
   "execution_count": null,
   "id": "e0b731e4",
   "metadata": {},
   "outputs": [],
   "source": [
    "xg_model = xg.XGBClassifier(gamma=0.01,\n",
    "              learning_rate=0.01, max_bin=4,\n",
    "              max_depth=15,\n",
    "              max_leaves=2, min_child_weight=2,n_estimators=300, n_jobs=-1,objective='multi:softprob',\n",
    "             random_state=1)"
   ]
  },
  {
   "cell_type": "code",
   "execution_count": null,
   "id": "d46103a5",
   "metadata": {},
   "outputs": [],
   "source": [
    "xg_model.fit(xtrain,ytrain)"
   ]
  },
  {
   "cell_type": "code",
   "execution_count": null,
   "id": "d80af357",
   "metadata": {},
   "outputs": [],
   "source": [
    "xg_model.score(xtrain,ytrain)"
   ]
  },
  {
   "cell_type": "code",
   "execution_count": null,
   "id": "df0268d2",
   "metadata": {},
   "outputs": [],
   "source": [
    "xg_model.score(xtest,ytest)"
   ]
  },
  {
   "cell_type": "code",
   "execution_count": null,
   "id": "cee88746",
   "metadata": {},
   "outputs": [],
   "source": [
    "xg_pred =xg_model.predict(xtest)"
   ]
  },
  {
   "cell_type": "code",
   "execution_count": null,
   "id": "1e99fa7f",
   "metadata": {},
   "outputs": [],
   "source": [
    "accuracy_score(ytest,xg_pred)"
   ]
  },
  {
   "cell_type": "code",
   "execution_count": null,
   "id": "140a870e",
   "metadata": {},
   "outputs": [],
   "source": [
    "confusion_matrix(ytest,xg_pred)"
   ]
  },
  {
   "cell_type": "code",
   "execution_count": null,
   "id": "5cf34013",
   "metadata": {},
   "outputs": [],
   "source": [
    "print(classification_report(ytest,xg_pred))"
   ]
  },
  {
   "cell_type": "markdown",
   "id": "8f22a90d",
   "metadata": {},
   "source": [
    "Observations:\n",
    "\n",
    "Using Petals over Sepal for training the data gives a much better accuracy. This was expected as we saw in the heatmap above that the correlation between the Sepal Width and Length was very low whereas the correlation between Petal Width and Length was very high. Thus we have just implemented some of the common Machine Learning. Since the dataset is small with very few features, I didn't cover some concepts as they would be relevant when we have many features.\n",
    "\n",
    "I have compiled a notebook covering some advanced ML concepts using a larger dataset. Have a look at that tooo.\n",
    "\n",
    "In above experiment,we have seen different accuracy with respect to different models like Logistic Regression,Decision Tree,Random Forest,XgBoost and KNN Among all of them KNN provide best accuracy for the small dataset.So I will consider KNN as my final model having train and test are 98% and 95%. As I mensioned I also play some hyperparameters for all models.\n",
    "\n"
   ]
  }
 ],
 "metadata": {
  "kernelspec": {
   "display_name": "Python 3 (ipykernel)",
   "language": "python",
   "name": "python3"
  },
  "language_info": {
   "codemirror_mode": {
    "name": "ipython",
    "version": 3
   },
   "file_extension": ".py",
   "mimetype": "text/x-python",
   "name": "python",
   "nbconvert_exporter": "python",
   "pygments_lexer": "ipython3",
   "version": "3.9.12"
  }
 },
 "nbformat": 4,
 "nbformat_minor": 5
}
